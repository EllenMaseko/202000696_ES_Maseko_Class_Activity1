{
 "cells": [
  {
   "cell_type": "code",
   "execution_count": 1,
   "id": "63960ec5",
   "metadata": {},
   "outputs": [
    {
     "name": "stdout",
     "output_type": "stream",
     "text": [
      "        H03                   H05             H16  sales       date\n",
      "0  FMP20000  Total, gold included  Actual indices  102.9 1980-01-01\n",
      "1  FMP20001  Total, gold excluded  Actual indices   55.1 1980-01-01\n",
      "2  FMP21000                  Coal  Actual indices   44.7 1980-01-01\n",
      "3  FMP23010              Iron ore  Actual indices   37.8 1980-01-01\n",
      "4  FMP23020              Chromium  Actual indices   24.7 1980-01-01\n",
      "R2 Score: 0.9235457721649941\n"
     ]
    }
   ],
   "source": [
    "import pandas as pd\n",
    "from sklearn.model_selection import train_test_split\n",
    "from sklearn.linear_model import Ridge\n",
    "from sklearn import metrics\n",
    "\n",
    "df_raw = pd.read_csv(\"data.csv\", sep=\";\")\n",
    "\n",
    "df = df_raw.melt(id_vars=[\"H03\", \"H05\", \"H16\"],\n",
    "                 var_name=\"Date\", value_name=\"sales\")\n",
    "\n",
    "df[[\"Prefix\", \"Month\", \"Year\"]] = df[\"Date\"].astype(\n",
    "    \"str\").str.extract(r'(MO)(\\d{2})(\\d{4})')\n",
    "\n",
    "df[\"date\"] = pd.to_datetime(df[\"Year\"].astype(\n",
    "    str)+\"-\"+df[\"Month\"].astype(str)+\"-\"+\"01\", format=\"%Y-%m-%d\")\n",
    "\n",
    "df.drop(columns=[\"Date\", \"Prefix\", \"Month\", \"Year\"], inplace=True)\n",
    "print(df.head())\n",
    "\n",
    "# Convert categorical variable into dummy/indicator variables\n",
    "df_encoded = pd.get_dummies(df, columns=['date', 'H03', 'H05', 'H16'])\n",
    "\n",
    "# Splitting the data into features and target variable\n",
    "X = df_encoded.drop('sales', axis=1)\n",
    "y = df_encoded['sales']\n",
    "\n",
    "# Splitting the data into training and testing sets\n",
    "X_train, X_test, y_train, y_test = train_test_split(\n",
    "    X, y, test_size=0.2, random_state=0)\n",
    "\n",
    "# Creating the linear regression model and fitting the data\n",
    "model = Ridge(alpha=1.0)\n",
    "\n",
    "# Creating the linear regression model and fitting the data\n",
    "model = Ridge(alpha=1.0)\n",
    "model.fit(X_train, y_train)\n",
    "\n",
    "# Predicting the target variable for the test set\n",
    "y_pred = model.predict(X_test)\n",
    "\n",
    "r2_score = metrics.r2_score(y_test, y_pred)\n",
    "print(\"R2 Score:\", r2_score)\n",
    "\n",
    "# Writing the result to a file\n",
    "with open('results.txt', 'w') as f:\n",
    "    f.write(f\"R2 Score: {r2_score}\\n\")"
   ]
  },
  {
   "cell_type": "code",
   "execution_count": null,
   "id": "3c9e21ea",
   "metadata": {},
   "outputs": [],
   "source": []
  }
 ],
 "metadata": {
  "kernelspec": {
   "display_name": "Python 3 (ipykernel)",
   "language": "python",
   "name": "python3"
  },
  "language_info": {
   "codemirror_mode": {
    "name": "ipython",
    "version": 3
   },
   "file_extension": ".py",
   "mimetype": "text/x-python",
   "name": "python",
   "nbconvert_exporter": "python",
   "pygments_lexer": "ipython3",
   "version": "3.9.12"
  }
 },
 "nbformat": 4,
 "nbformat_minor": 5
}
